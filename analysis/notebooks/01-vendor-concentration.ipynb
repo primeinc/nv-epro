{
 "cells": [
  {
   "cell_type": "markdown",
   "id": "vendor-concentration-title",
   "metadata": {},
   "source": "# Nevada Procurement: Vendor Concentration Analysis\n\n**Objective**: Measure vendor market concentration using Herfindahl-Hirschman Index (HHI) to identify potential competition risks and monopolization patterns.\n\n**Data**: Nevada procurement contracts silver data (1,607 records, full coverage)\n\n**Key Metrics**:\n- HHI by organization (corrected methodology)\n- Top-N vendor concentration (Top 5, Top 10) \n- Competition indicators\n\n**Methodology Update**: Using complete silver data for robust concentration analysis"
  },
  {
   "cell_type": "code",
   "execution_count": null,
   "id": "setup",
   "metadata": {},
   "outputs": [],
   "source": "import pandas as pd\nimport numpy as np\nimport matplotlib.pyplot as plt\nimport seaborn as sns\nimport duckdb\nfrom scipy.stats import bootstrap\nimport warnings\nwarnings.filterwarnings('ignore')\n\n# Set random seed for reproducibility\nnp.random.seed(42)\n\n# Configure plotting\nplt.style.use('default')\nsns.set_palette('husl')\nplt.rcParams['figure.figsize'] = (12, 8)\n\nprint(\"Setup complete\")"
  },
  {
   "cell_type": "code",
   "execution_count": null,
   "id": "load-data",
   "metadata": {},
   "outputs": [],
   "source": "# Load data using DuckDB for efficient querying\nconn = duckdb.connect()\n\n# Load silver contracts data (latest version - using glob pattern from notebooks directory)\ncontracts_query = \"\"\"\nSELECT \n    contract_id,\n    vendor_name,\n    organization,\n    fiscal_year_begin,\n    dollars_spent_to_date,\n    is_zero_spend,\n    contract_status\nFROM read_parquet(\"../../data/silver/contracts/version=v0.3.0/*/data.parquet\")\nWHERE vendor_name IS NOT NULL \n    AND organization IS NOT NULL\n    AND fiscal_year_begin IS NOT NULL\n\"\"\"\n\ncontracts = conn.execute(contracts_query).df()\nprint(f\"Loaded {len(contracts):,} contract records\")\nprint(f\"Date range: {contracts['fiscal_year_begin'].min()} - {contracts['fiscal_year_begin'].max()}\")\nprint(f\"Organizations: {contracts['organization'].nunique()}\")\nprint(f\"Vendors: {contracts['vendor_name'].nunique()}\")\nprint(f\"Zero spend contracts: {(contracts['dollars_spent_to_date'] == 0).sum()}\")\nprint(f\"Total spend: ${contracts['dollars_spent_to_date'].sum():,.2f}\")\n\ncontracts.head()"
  },
  {
   "cell_type": "code",
   "execution_count": null,
   "id": "hhi-calculation",
   "metadata": {},
   "outputs": [],
   "source": "# CORRECTED HHI calculation - by organization only, include zero spend\nhhi_query = \"\"\"\nWITH vendor_spend AS (\n    SELECT \n        organization,\n        vendor_name,\n        SUM(dollars_spent_to_date) as vendor_spend,\n        COUNT(*) as contract_count\n    FROM read_parquet(\"../../data/silver/contracts/version=v0.3.0/*/data.parquet\")\n    WHERE vendor_name IS NOT NULL \n        AND organization IS NOT NULL\n    GROUP BY 1,2\n),\norg_totals AS (\n    SELECT \n        organization,\n        SUM(vendor_spend) as total_spend,\n        COUNT(*) as total_contracts\n    FROM vendor_spend \n    GROUP BY 1\n),\nmarket_shares AS (\n    SELECT \n        v.*,\n        o.total_spend,\n        o.total_contracts,\n        CASE \n            WHEN o.total_spend > 0 THEN v.vendor_spend / o.total_spend \n            ELSE 1.0 / COUNT(*) OVER (PARTITION BY v.organization)  -- Equal share for zero-spend orgs\n        END as market_share,\n        DENSE_RANK() OVER (PARTITION BY v.organization ORDER BY v.vendor_spend DESC) as vendor_rank\n    FROM vendor_spend v\n    JOIN org_totals o USING (organization)\n)\nSELECT \n    organization,\n    total_spend,\n    total_contracts,\n    -- HHI calculation (sum of squared market shares)\n    SUM(market_share * market_share) as hhi,\n    -- Top-N concentration\n    SUM(CASE WHEN vendor_rank <= 5 THEN market_share ELSE 0 END) as top5_share,\n    COUNT(*) as unique_vendors,\n    COUNT(CASE WHEN market_share >= 0.10 THEN 1 END) as vendors_over_10pct\nFROM market_shares\nGROUP BY organization, total_spend, total_contracts\nORDER BY hhi DESC\n\"\"\"\n\nhhi_results = conn.execute(hhi_query).df()\nprint(f\"HHI calculated for {len(hhi_results)} organizations\")\nprint(\"\\\\nFull Results:\")\ndisplay(hhi_results)"
  },
  {
   "cell_type": "code",
   "execution_count": null,
   "id": "hhi-interpretation",
   "metadata": {},
   "outputs": [],
   "source": "# Interpret HHI values (DOJ guidelines)\ndef interpret_hhi(hhi):\n    if hhi < 0.15:\n        return \"Competitive (Low)\"\n    elif hhi < 0.25:\n        return \"Moderately Concentrated\"\n    else:\n        return \"Highly Concentrated\"\n\nhhi_results['concentration_level'] = hhi_results['hhi'].apply(interpret_hhi)\n\n# Summary statistics\nprint(\"=== VENDOR CONCENTRATION SUMMARY ===\")\nprint(f\"Average HHI: {hhi_results['hhi'].mean():.3f}\")\nprint(f\"Median HHI: {hhi_results['hhi'].median():.3f}\")\nprint(f\"Max HHI: {hhi_results['hhi'].max():.3f}\")\nprint()\nprint(\"Concentration Levels:\")\nprint(hhi_results['concentration_level'].value_counts(normalize=True).round(3))\nprint()\nprint(\"Most Concentrated Markets:\")\nprint(hhi_results.nlargest(5, 'hhi')[['organization', 'hhi', 'top5_share', 'unique_vendors']])"
  },
  {
   "cell_type": "code",
   "execution_count": null,
   "id": "visualizations",
   "metadata": {},
   "outputs": [],
   "source": "# Create visualizations\nfig, axes = plt.subplots(2, 2, figsize=(15, 12))\nfig.suptitle('Nevada Procurement Vendor Concentration Analysis', fontsize=16, y=0.98)\n\n# 1. HHI Distribution\naxes[0, 0].hist(hhi_results['hhi'], bins=15, alpha=0.7, edgecolor='black')\naxes[0, 0].axvline(0.15, color='orange', linestyle='--', alpha=0.8, label='Moderate threshold')\naxes[0, 0].axvline(0.25, color='red', linestyle='--', alpha=0.8, label='High threshold')\naxes[0, 0].set_xlabel('Herfindahl-Hirschman Index')\naxes[0, 0].set_ylabel('Frequency')\naxes[0, 0].set_title('Distribution of Market Concentration')\naxes[0, 0].legend()\n\n# 2. HHI vs Top 5 Share\naxes[0, 1].scatter(hhi_results['top5_share'], hhi_results['hhi'], alpha=0.7, s=50)\naxes[0, 1].set_xlabel('Top 5 Vendor Share')\naxes[0, 1].set_ylabel('HHI')\naxes[0, 1].set_title('HHI vs Top 5 Concentration')\n\n# 3. HHI by Organization (top 15)\ntop_hhi = hhi_results.nlargest(15, 'hhi')\ny_pos = range(len(top_hhi))\naxes[1, 0].barh(y_pos, top_hhi['hhi'])\naxes[1, 0].set_yticks(y_pos)\naxes[1, 0].set_yticklabels([org[:20] + '...' if len(org) > 20 else org for org in top_hhi['organization']])\naxes[1, 0].set_xlabel('HHI')\naxes[1, 0].set_title('Top 15 Most Concentrated Organizations')\n\n# 4. Vendor count vs HHI (log scale for better visibility)\naxes[1, 1].scatter(hhi_results['unique_vendors'], hhi_results['hhi'], alpha=0.7, s=50)\naxes[1, 1].set_xlabel('Number of Unique Vendors')\naxes[1, 1].set_ylabel('HHI')\naxes[1, 1].set_xscale('log')\naxes[1, 1].set_title('Vendor Diversity vs Concentration (Log Scale)')\n\nplt.tight_layout()\nplt.show()\n\n# Save the figure\nplt.savefig('../output/vendor_concentration_analysis.png', dpi=300, bbox_inches='tight')\nprint(\"Charts saved to ../output/vendor_concentration_analysis.png\")"
  },
  {
   "cell_type": "code",
   "execution_count": null,
   "id": "risk-analysis",
   "metadata": {},
   "outputs": [],
   "source": "# Risk Analysis: Identify high-risk scenarios\nhigh_concentration = hhi_results[hhi_results['hhi'] >= 0.25].copy()\nhigh_concentration = high_concentration.sort_values('hhi', ascending=False)\n\nprint(\"=== HIGH CONCENTRATION RISK ANALYSIS ===\")\nprint(f\"Markets with high concentration (HHI ≥ 0.25): {len(high_concentration)}\")\nprint(f\"Percentage of markets: {len(high_concentration) / len(hhi_results) * 100:.1f}%\")\nprint()\nprint(\"Top Risk Cases:\")\nrisk_cols = ['organization', 'hhi', 'top5_share', 'unique_vendors', 'vendors_over_10pct']\nprint(high_concentration[risk_cols].head(10).to_string(index=False))\n\n# Market dominance analysis\nprint(\"\\n=== MARKET DOMINANCE PATTERNS ===\")\nsingle_vendor_dominance = hhi_results[hhi_results['top5_share'] > 0.8]\nprint(f\"Markets with >80% top-5 concentration: {len(single_vendor_dominance)}\")\n\nfew_vendors = hhi_results[hhi_results['unique_vendors'] <= 3]\nprint(f\"Markets with ≤3 vendors: {len(few_vendors)}\")\n\n# Full dataset assessment\nprint(\"\\n=== FULL DATASET ANALYSIS ===\")\nprint(\"Coverage: Complete silver contracts data (1,607 records)\")\nprint(\"All major procurement organizations included\")\nprint(\"Methodology: Organization-level vendor concentration (not by fiscal year)\")"
  },
  {
   "cell_type": "code",
   "execution_count": null,
   "id": "export-results",
   "metadata": {},
   "outputs": [],
   "source": "# Export results for further analysis\nhhi_results.to_csv('../output/vendor_concentration_results.csv', index=False)\nhigh_concentration.to_csv('../output/high_concentration_markets.csv', index=False)\n\n# Create summary report\nsummary = {\n    'analysis_date': pd.Timestamp.now().strftime('%Y-%m-%d'),\n    'total_markets': len(hhi_results),\n    'avg_hhi': hhi_results['hhi'].mean(),\n    'median_hhi': hhi_results['hhi'].median(),\n    'high_concentration_markets': len(high_concentration),\n    'pct_high_concentration': len(high_concentration) / len(hhi_results) * 100,\n    'most_concentrated_org': hhi_results.loc[hhi_results['hhi'].idxmax(), 'organization'],\n    'highest_hhi': hhi_results['hhi'].max()\n}\n\npd.Series(summary).to_csv('../output/concentration_summary.csv')\n\nprint(\"✓ Results exported:\")\nprint(\"  - vendor_concentration_results.csv\")\nprint(\"  - high_concentration_markets.csv\")\nprint(\"  - concentration_summary.csv\")\nprint(\"  - vendor_concentration_analysis.png\")"
  },
  {
   "cell_type": "markdown",
   "id": "conclusions",
   "metadata": {},
   "source": [
    "## Key Findings & Recommendations\n",
    "\n",
    "**Concentration Levels**: [To be filled after running analysis]\n",
    "\n",
    "**Risk Areas**: Organizations and fiscal years with HHI ≥ 0.25 indicate potential competition concerns\n",
    "\n",
    "**Policy Implications**: \n",
    "- High concentration markets may benefit from vendor outreach programs\n",
    "- Consider set-aside programs for small/minority vendors in concentrated markets\n",
    "- Monitor for potential price manipulation in highly concentrated segments\n",
    "\n",
    "**Data Limitations**:\n",
    "- Analysis based on 49.8% sample - trends reliable, absolute values approximate\n",
    "- Vendor diversity may be underrepresented in sample\n",
    "- Geographic factors not included (no location data)\n",
    "\n",
    "**Next Steps**:\n",
    "1. Validate findings with full dataset\n",
    "2. Analyze bid competition rates in high-concentration markets\n",
    "3. Investigate vendor entry/exit patterns\n",
    "4. Cross-reference with procurement outcome quality metrics"
   ]
  }
 ],
 "metadata": {
  "kernelspec": {
   "display_name": "Python 3",
   "language": "python",
   "name": "python3"
  },
  "language_info": {
   "codemirror_mode": {
    "name": "ipython",
    "version": 3
   },
   "file_extension": ".py",
   "mimetype": "text/x-python",
   "name": "python",
   "nbconvert_exporter": "python",
   "pygments_lexer": "ipython3",
   "version": "3.13.5"
  }
 },
 "nbformat": 4,
 "nbformat_minor": 5
}